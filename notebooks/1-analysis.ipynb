{
 "cells": [
  {
   "cell_type": "markdown",
   "id": "04e1d9a8",
   "metadata": {},
   "source": [
    "# Analysis\n",
    "\n",
    "### Index\n",
    "0. [Imports](#Imports)"
   ]
  },
  {
   "cell_type": "markdown",
   "id": "81865234",
   "metadata": {},
   "source": [
    "### Imports"
   ]
  },
  {
   "cell_type": "code",
   "execution_count": null,
   "id": "a46657eb",
   "metadata": {},
   "outputs": [],
   "source": [
    "import sys\n",
    "sys.path.append('/home/jorge/analisis/main')\n",
    "from mdtools.core import *\n",
    "from mdtools.analysis import *"
   ]
  }
 ],
 "metadata": {
  "kernelspec": {
   "display_name": "Python 3",
   "language": "python",
   "name": "python3"
  },
  "language_info": {
   "codemirror_mode": {
    "name": "ipython",
    "version": 3
   },
   "file_extension": ".py",
   "mimetype": "text/x-python",
   "name": "python",
   "nbconvert_exporter": "python",
   "pygments_lexer": "ipython3",
   "version": "3.8.10"
  }
 },
 "nbformat": 4,
 "nbformat_minor": 5
}
