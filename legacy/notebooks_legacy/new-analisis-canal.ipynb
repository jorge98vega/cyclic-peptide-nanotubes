{
 "cells": [
  {
   "cell_type": "markdown",
   "id": "4d4687cd",
   "metadata": {},
   "source": [
    "# Caso\n",
    "\n",
    "# Análisis (analysis)\n",
    "Las secciones Imports y System parameters siempre deben ejecutarse antes de ejecutar cualquier otra sección (menos una de las celdas de System parameters, que solo es necesario ejecutarla la primera vez que se usa el cuaderno).<br />\n",
    "El resto de secciones son independientes de la ejecución de las otras secciones.\n",
    "\n",
    "## Index\n",
    "0. [Imports](#Imports)\n",
    "1. [System parameters](#System-parameters)\n",
    "2. [Water and chloride inside the region](#Water-and-chloride-inside-the-region)\n",
    "3. [Hidrogen bonds](#Hydrogen-bonds)\n",
    "4. [Hydrogen bond statistics](#Hydrogen-bond-statistics)\n",
    "5. [Hydrogen bond stability](#Hydrogen-bond-stability)\n",
    "6. [Hydrogen bond \"paths\"](#Hydrogen-bond-\"paths\")\n",
    "7. [Hydrogen bond temporal correlation](#Hydrogen-bond-temporal-correlation)\n",
    "8. [Hydrogen bond orientation](#Hydrogen-bond-orientation)\n",
    "9. [Atoms' average positions](#Atoms'-average-positions)\n",
    "10. [Radial Distribution Function and \"Z\" Distribution Function](#Radial-Distribution-Function-and-\"Z\"-Distribution-Function)\n",
    "11. [Coordination numbers](#Coordination-numbers)\n",
    "12. [Closest atoms](#Closest-atoms)"
   ]
  },
  {
   "cell_type": "markdown",
   "id": "dbbc18c1",
   "metadata": {},
   "source": [
    "## Imports"
   ]
  },
  {
   "cell_type": "code",
   "execution_count": null,
   "id": "02578807",
   "metadata": {},
   "outputs": [],
   "source": [
    "import sys\n",
    "sys.path.insert(1, '/home/jorge/analisis/main/')\n",
    "# sys.path.append('/ufs/guido/lib/python')\n",
    "from main import *\n",
    "from analisis import *"
   ]
  },
  {
   "cell_type": "markdown",
   "id": "74113cfc",
   "metadata": {},
   "source": [
    "## System parameters\n",
    "Inicializamos los parámetros del sistema, algunos explícitamente y otros dentro de un `Params`.<br />\n",
    "La función `recenter_traj_RMSD` debe ser ejecutada una vez parama crear la trayectoria `traj_name_RMSD.nc` con los nanotubos centrados y alineando su eje con el eje Z del sistema de coordenadas."
   ]
  },
  {
   "cell_type": "code",
   "execution_count": null,
   "id": "895ba366",
   "metadata": {},
   "outputs": [],
   "source": [
    "# Parámetros fijos del sistema\n",
    "'''\n",
    "Los tubos están colocados:\n",
    "1 2\n",
    "3 4\n",
    "'''\n",
    "\n",
    "traj_name = \"4tubes_run01\"\n",
    "N_tubes = 4 # Número de tubos en el sistema\n",
    "N_rings = 6 # Número de anillos en un tubo\n",
    "N_res = 8 # Número de residuos en un anillo\n",
    "# Los índices de los residuos (LYS y LYN) que están en el canal entre los 4 nanotubos son (el primer índice es 1):\n",
    "# 3 15 19 31 35 47 53 61 69 77 85 93 101 109 117 125 133 141 147 159 163 175 179 191\n",
    "channel_res_1 = \"3, 15, 19, 31, 35, 47\"\n",
    "channel_res_2 = \"53, 61, 69, 77, 85, 93\"\n",
    "channel_res_3 = \"101, 109, 117, 125, 133, 141\"\n",
    "channel_res_4 = \"147, 159, 163, 175, 179, 191\""
   ]
  },
  {
   "cell_type": "code",
   "execution_count": null,
   "id": "7d0feb73",
   "metadata": {},
   "outputs": [],
   "source": [
    "# ONLY ONE TIME\n",
    "# recenter_traj_RMSD(traj_name, N_tubes, N_res)"
   ]
  },
  {
   "cell_type": "code",
   "execution_count": null,
   "id": "08aeeb74",
   "metadata": {},
   "outputs": [],
   "source": [
    "traj = pt.iterload(traj_name+\"_RMSD.nc\", traj_name+\".top\")\n",
    "p = Params(traj, N_tubes, N_rings, N_res, channel_res_1, channel_res_2, channel_res_3, channel_res_4)"
   ]
  },
  {
   "cell_type": "markdown",
   "id": "76ba1342",
   "metadata": {},
   "source": [
    "## Water and chloride inside the region\n",
    "La función `get_indices` guarda dos archivos .npy con los índices de (los oxígenos de) las aguas y los cloros que hay en la región de interés.<br />\n",
    "Estos archivos se leen con `indices = np.load(\"file.npy\", allow_pickle=True)`. `indices[step]` es un array con los índices de los átomos (oxígenos de aguas o cloros) en la región de interés en cierto `step` de la simulación.<br />\n",
    "Por defecto la función está preparada para una primera llamada en la que guarda los índices de los átomos en una región amplia alrededor de los 4 nanotubos. Después, en una llamada posterior guardaría los índices de los átomos en una región más pequeña (por ejemplo, el canal) dentro de la primera región ampia. (De esta forma solo tiene que comprobar si los átomos de la región amplia están también dentro de la región pequeña, en vez de tener que hacer la comprobación para todos los átomos de la simulación)<br />\n",
    "<span style=\"color:red\">Estaría bien poder definir dos regiones: región \"proper\" y región frontera. Los átomos en la región frontera se tendrían en cuenta a la hora de definir los puentes de hidrógeno / números de coordinación de los átomos de la región \"proper\", pero no se definiría ningún puente de hidrógeno entra átomos en la región frontera. De esta forma evitaríamos \"efectos de borde\" introducidos artificialmente en el análisis al seleccionar la región.</span>"
   ]
  },
  {
   "cell_type": "code",
   "execution_count": null,
   "id": "9885d90a",
   "metadata": {},
   "outputs": [],
   "source": [
    "# Guardar los índices de CLs y WATs en una región amplia alrededor de todos los tubos\n",
    "get_indices(traj, p.WATs, p.CLs, p.CAs_topbot, N_res*N_tubes)"
   ]
  },
  {
   "cell_type": "code",
   "execution_count": null,
   "id": "a438e3d7",
   "metadata": {},
   "outputs": [],
   "source": [
    "# Guardar los índices de CLs y WATs dentro de los tubos y del canal\n",
    "\n",
    "iWATs = np.load(\"iWATs.npy\", allow_pickle=True)\n",
    "iCLs = np.load(\"iCLs.npy\", allow_pickle=True)\n",
    "\n",
    "print(\"Analizando tubo 1\")\n",
    "get_indices(traj, iWATs, iCLs, p.CAs_tube1, N_res, layer=1,\n",
    "            delta=0.0, preselected=True, save=True, savefileWATs=\"iWATs_tube1\", savefileCLs=\"iCLs_tube1\")\n",
    "\n",
    "# print(\"Analizando tubo 2\")\n",
    "# get_indices(traj, iWATs, iCLs, p.CAs_tube2[N_res:2*N_res], p.CAs_tube2[-2*N_res:-N_res],\n",
    "#             delta=0.0, preselected=True, save=True, savefileWATs=\"iWATs_tube2.npy\", savefileCLs=\"iCLs_tube2.npy\")\n",
    "\n",
    "# print(\"Analizando tubo 3\")\n",
    "# get_indices(traj, iWATs, iCLs, p.CAs_tube3[N_res:2*N_res], p.CAs_tube3[-2*N_res:-N_res],\n",
    "#             delta=0.0, preselected=True, save=True, savefileWATs=\"iWATs_tube3.npy\", savefileCLs=\"iCLs_tube3.npy\")\n",
    "\n",
    "# print(\"Analizando tubo 4\")\n",
    "# get_indices(traj, iWATs, iCLs, p.CAs_tube4[N_res:2*N_res], p.CAs_tube4[-2*N_res:-N_res],\n",
    "#             delta=0.0, preselected=True, save=True, savefileWATs=\"iWATs_tube4.npy\", savefileCLs=\"iCLs_tube4.npy\")\n",
    "\n",
    "print(\"Analizando canal\")\n",
    "get_indices(traj, iWATs, iCLs, p.CAs_canal, N_tubes, layer=1,\n",
    "            delta=0.0, preselected=True, save=True, savefileWATs=\"iWATs_canal\", savefileCLs=\"iCLs_canal\")"
   ]
  },
  {
   "cell_type": "markdown",
   "id": "7dce24e6",
   "metadata": {},
   "source": [
    "## Hydrogen bonds\n",
    "La función `analyse` analiza los enlaces de tipo puente de hidrógeno en la región de interés.\n",
    "Esta función crea dos archivos .csv:<br />\n",
    "`label_stats.csv` contiene las estadísticas de número de aguas, número de cloros, número de puentes de hidrógeno (y también la distancia media de estos puentes de hidrógeno) que hay en la región en cada frame. En el cuaderno `new-estadisticas.ipynb` se representan estas cantidades.<br />\n",
    "`label_hbonds.csv` contiene la información de todos los enlaces de puente de hidrógeno que ha encontrado la función: frame en el que se da el enlace, donor, H del donor, acceptor, donor residue - acceptor residue, distancia del enlace.<br />\n",
    "<span style=\"color:red\">Lo dicho, sería interesante tener en cuenta dos regiones.</span>"
   ]
  },
  {
   "cell_type": "code",
   "execution_count": null,
   "id": "da9bb0da",
   "metadata": {},
   "outputs": [],
   "source": [
    "# Analizar puentes de hidrógeno dentro de los tubos y el canal\n",
    "# (Esto tarda bastante)\n",
    "\n",
    "print(\"Analizando tubo 1\")\n",
    "analyse(p, traj, \"tube1\", layer=1)\n",
    "\n",
    "# print(\"Analizando tubo 2\")\n",
    "# iWATs_tube2 = np.load(\"iWATs_tube2.npy\", allow_pickle=True)\n",
    "# iCLs_tube2 = np.load(\"iCLs_tube2.npy\", allow_pickle=True)\n",
    "# analyse(p, traj, iWATs_tube2, iCLs_tube2, \"tube2\")\n",
    "\n",
    "# print(\"Analizando tubo 3\")\n",
    "# iWATs_tube3 = np.load(\"iWATs_tube3.npy\", allow_pickle=True)\n",
    "# iCLs_tube3 = np.load(\"iCLs_tube3.npy\", allow_pickle=True)\n",
    "# analyse(p, traj, iWATs_tube3, iCLs_tube3, \"tube3\")\n",
    "\n",
    "# print(\"Analizando tubo 4\")\n",
    "# iWATs_tube4 = np.load(\"iWATs_tube4.npy\", allow_pickle=True)\n",
    "# iCLs_tube4 = np.load(\"iCLs_tube4.npy\", allow_pickle=True)\n",
    "# analyse(p, traj, iWATs_tube4, iCLs_tube4, \"tube4\")\n",
    "\n",
    "print(\"Analizando canal\")\n",
    "analyse(p, traj, \"canal\", canal=True, layer=1)"
   ]
  },
  {
   "cell_type": "markdown",
   "id": "f666e281",
   "metadata": {},
   "source": [
    "## Hydrogen bond statistics\n",
    "La función `detail_hbonds` lee el archivo `label_hbonds.csv` y crea el archivo `label_hbonds_detail.csv`. Este archivo contiene la información sobre cuántos enlaces de puente de hidrógeno de cada tipo (i.e. WAT-WAT, LYS-WAT, etc) se dan en cada frame y cuál es su distancia media."
   ]
  },
  {
   "cell_type": "code",
   "execution_count": null,
   "id": "c12003fe",
   "metadata": {},
   "outputs": [],
   "source": [
    "detail_hbonds(\"canal\")"
   ]
  },
  {
   "cell_type": "code",
   "execution_count": null,
   "id": "220767d1",
   "metadata": {},
   "outputs": [],
   "source": [
    "detail_hbonds(\"tube1\")"
   ]
  },
  {
   "cell_type": "markdown",
   "id": "e792071f",
   "metadata": {},
   "source": [
    "## Hydrogen bond stability\n",
    "La función `stability_hbonds` lee el archivo `label_hbonds.csv` y crea el archivo `label_hbonds_stability.csv`. Este archivo recoge en cuántos frames consecutivos aparece cada enlace de puente de hidrógeno."
   ]
  },
  {
   "cell_type": "code",
   "execution_count": null,
   "id": "07740176",
   "metadata": {},
   "outputs": [],
   "source": [
    "stability_hbonds(\"canal\")"
   ]
  },
  {
   "cell_type": "code",
   "execution_count": null,
   "id": "50584f60",
   "metadata": {},
   "outputs": [],
   "source": [
    "stability_hbonds(\"tube1\")"
   ]
  },
  {
   "cell_type": "markdown",
   "id": "2a7c138c",
   "metadata": {},
   "source": [
    "## Hydrogen bond \"paths\"\n",
    "La función `save_paths` lee el archivo `label_hbonds.csv` y la trayectoria para crear el archivo `label_paths.csv`. Este archivo indica, para cada frame de la simulación, cuál es el \"path\" de puentes de hidrógeno que abarca mayor distancia en el eje Z."
   ]
  },
  {
   "cell_type": "code",
   "execution_count": null,
   "id": "fc4b20ad",
   "metadata": {},
   "outputs": [],
   "source": [
    "save_paths(traj, \"canal\")"
   ]
  },
  {
   "cell_type": "code",
   "execution_count": null,
   "id": "54ba3af9",
   "metadata": {},
   "outputs": [],
   "source": [
    "save_paths(traj, \"tube1\")"
   ]
  },
  {
   "cell_type": "markdown",
   "id": "4b8859c5",
   "metadata": {},
   "source": [
    "## Hydrogen bond temporal correlation\n",
    "La función `hbonds_correlation` lee el archivo `label_hbonds.csv` y crea un gráfico de la correlación de los puentes de hidrógeno. La correlación se calcula de la siguiente forma:<br />\n",
    "$ \\eta(t) = \\sum_k \\delta_{H_k(t), H_k(0)} $,<br />\n",
    "donde $ H_k(t) $ es el índice del átomo con el que puentea el hidrógeno $ k $, y que hacemos $ 0 $ si no puentea con ningún átomo.<br />\n",
    "$ \\delta_{H_k(t), H_k(0)} = 1 $ si $ H_k(t) = H_k(0) \\neq 0 $ y es $ 0 $ en caso contrario.<br />"
   ]
  },
  {
   "cell_type": "code",
   "execution_count": null,
   "id": "83f8dd1f",
   "metadata": {},
   "outputs": [],
   "source": [
    "fig, ax = hbonds_correlation(\"canal\")\n",
    "title = 'Hydrogen bond correlation inside the channel'\n",
    "xlabel = 'Simulation time (ns)'\n",
    "ylabel = 'Correlation'\n",
    "loc = ax.get_xticks()\n",
    "ax.set_xticks(loc[1:-1], (100*loc[1:-1]/len(traj)).astype(int))\n",
    "decorate_ax(ax, title, 16, xlabel, ylabel, 14, 12, 2, 4, False)"
   ]
  },
  {
   "cell_type": "code",
   "execution_count": null,
   "id": "1d25fe58",
   "metadata": {},
   "outputs": [],
   "source": [
    "fig, ax = hbonds_correlation(\"tube1\")\n",
    "title = 'Hydrogen bond correlation inside the tube'\n",
    "xlabel = 'Simulation time (ns)'\n",
    "ylabel = 'Correlation'\n",
    "loc = ax.get_xticks()\n",
    "ax.set_xticks(loc[1:-1], (100*loc[1:-1]/len(traj)).astype(int))\n",
    "decorate_ax(ax, title, 16, xlabel, ylabel, 14, 12, 2, 4, False)"
   ]
  },
  {
   "cell_type": "markdown",
   "id": "b6509077",
   "metadata": {},
   "source": [
    "## Hydrogen bond orientation"
   ]
  },
  {
   "cell_type": "code",
   "execution_count": null,
   "id": "f4fb8241",
   "metadata": {},
   "outputs": [],
   "source": [
    "fig, ax = hbonds_orientation(traj, \"canal\")\n",
    "title = 'Hydrogen bond orientation inside the channel'\n",
    "xlabel = r'$\\theta (^\\circ)$'\n",
    "ylabel = 'Counts'\n",
    "decorate_ax(ax, title, 16, xlabel, ylabel, 14, 12, 2, 4, False)"
   ]
  },
  {
   "cell_type": "code",
   "execution_count": null,
   "id": "8fedd970",
   "metadata": {},
   "outputs": [],
   "source": [
    "fig, ax = hbonds_orientation(traj, \"canal\", bondtype=\"WAT-WAT\")\n",
    "title = 'Hydrogen bond orientation inside the channel (only WAT-WAT)'\n",
    "xlabel = r'$\\theta (^\\circ)$'\n",
    "ylabel = 'Counts'\n",
    "decorate_ax(ax, title, 16, xlabel, ylabel, 14, 12, 2, 4, False)"
   ]
  },
  {
   "cell_type": "code",
   "execution_count": null,
   "id": "7361e330",
   "metadata": {},
   "outputs": [],
   "source": [
    "fig, ax = hbonds_orientation(traj, \"tube1\")\n",
    "title = 'Hydrogen bond orientation inside the tube'\n",
    "xlabel = r'$\\theta (^\\circ)$'\n",
    "ylabel = 'Counts'\n",
    "decorate_ax(ax, title, 16, xlabel, ylabel, 14, 12, 2, 4, False)"
   ]
  },
  {
   "cell_type": "markdown",
   "id": "70f7c69c",
   "metadata": {},
   "source": [
    "## Atoms' average positions\n",
    "La función `average_positions` toma la trayectoria de la simulación y calcula las posiciones medias de los átomos en la región de interés. El archivo `label_averages.csv` que escribe contiene la información sobre el número que aparece cierto átomo en la región de interés, su posición media y la varianza de esta."
   ]
  },
  {
   "cell_type": "code",
   "execution_count": null,
   "id": "b3a58b91",
   "metadata": {},
   "outputs": [],
   "source": [
    "average_positions(p, traj, \"canal\", canal=True, layer=0)"
   ]
  },
  {
   "cell_type": "code",
   "execution_count": null,
   "id": "e68384c0",
   "metadata": {},
   "outputs": [],
   "source": [
    "average_positions(p, traj, \"tube1\", layer=0)"
   ]
  },
  {
   "cell_type": "markdown",
   "id": "7f4c22b1",
   "metadata": {},
   "source": [
    "## Radial Distribution Function and \"Z\" Distribution Function\n",
    "La función `RDF` computa y grafica los histogramas del conteo de las veces en las que los de átomos de un tipo que se encuentran a cierta distancia de los átomos de otro tipo.<br />\n",
    "Una de las curvas (`r`) representa el histograma de la distancia euclidiana en 3D entre los átomos, y la otra curva (`z`) representa el histograma de la proyección en el eje Z de la distancia entre átomos."
   ]
  },
  {
   "cell_type": "code",
   "execution_count": null,
   "id": "04d61072",
   "metadata": {},
   "outputs": [],
   "source": [
    "fig, axs = RDF(p, traj, \"canal\", layer=0)\n",
    "xlabel = 'Distance ($\\AA$)'\n",
    "ylabel = 'Count'\n",
    "fig.supxlabel(xlabel, fontsize=14)\n",
    "fig.supylabel(ylabel, fontsize=14)\n",
    "for ax in axs.flatten():\n",
    "    decorate_ax(ax, ax.get_title(), 14, '', ax.get_ylabel(), 14, 12, 2, 4, True)"
   ]
  },
  {
   "cell_type": "markdown",
   "id": "604604cc",
   "metadata": {},
   "source": [
    "## Coordination numbers\n",
    "La función `coordination` escribe el archivo `label_coordination.csv`, que contiene la información de cuántos átomos de cada tipo se encuentran alrededor de cada átomo en cada frame.<br/ >\n",
    "La función `coordination_hbonds` escribe el archivo `label_coordination_hbonds.csv`, que contiene la información de cuántos puentes de hidrógeno de cada tipo (con qué atomo y si es donor o acceptor) está formando cada átomo en cada frame."
   ]
  },
  {
   "cell_type": "code",
   "execution_count": null,
   "id": "a62bf386",
   "metadata": {},
   "outputs": [],
   "source": [
    "coordination(p, traj, \"canal\", layer=0)"
   ]
  },
  {
   "cell_type": "code",
   "execution_count": null,
   "id": "8c79c85a",
   "metadata": {},
   "outputs": [],
   "source": [
    "coordination_hbonds(p, traj, \"canal\", layer=0)"
   ]
  },
  {
   "cell_type": "markdown",
   "id": "1b7e1fa7",
   "metadata": {},
   "source": [
    "## Closest atoms\n",
    "Las funciones `closest_atoms` y `plot_closest_atoms` sirven para representar cuál es el átomo de un cierto tipo que más cerca está de un átomo en concreto."
   ]
  },
  {
   "cell_type": "code",
   "execution_count": null,
   "id": "e5bdd7d3",
   "metadata": {},
   "outputs": [],
   "source": [
    "iCLs_canal = np.load(\"iCLs_canal.npy\", allow_pickle=True)\n",
    "aux = np.array([], dtype=int)\n",
    "for CLs in iCLs_canal:\n",
    "    aux = np.append(aux, CLs)\n",
    "inCLs = np.unique(aux)\n",
    "print(len(inCLs))\n",
    "# for index in range(len(inCLs)):\n",
    "#     print(inCLs[index])\n",
    "\n",
    "iWATs_canal = np.load(\"iWATs_canal.npy\", allow_pickle=True)\n",
    "aux = np.array([], dtype=int)\n",
    "for WATs in iWATs_canal:\n",
    "    aux = np.append(aux, WATs)\n",
    "inWATs = np.unique(aux)\n",
    "print(len(inWATs))\n",
    "# for index in range(len(inWATs)):\n",
    "#     print(inWATs[index])\n",
    "\n",
    "NZs_LYS, NZs_LYN = select_atoms(p, 0)\n",
    "NZs = np.concatenate((NZs_LYS, NZs_LYN))"
   ]
  },
  {
   "cell_type": "code",
   "execution_count": null,
   "id": "f50b17fe",
   "metadata": {},
   "outputs": [],
   "source": [
    "distances, bonds = closest_atoms(traj, inCLs, iCLs_canal, NZs)"
   ]
  },
  {
   "cell_type": "code",
   "execution_count": null,
   "id": "4ca258bf",
   "metadata": {},
   "outputs": [],
   "source": [
    "fig, ax = plot_closest_atoms(distances, bonds, 1)\n",
    "title = 'Distance to the closest atom'\n",
    "xlabel = 'Simulation time (ns)'\n",
    "ylabel = 'Distance ($\\AA$)'\n",
    "loc = ax.get_xticks()\n",
    "ax.set_xticks(loc[1:-1], (100*loc[1:-1]/len(traj)).astype(int))\n",
    "decorate_ax(ax, title, 16, xlabel, ylabel, 14, 12, 2, 4, False)"
   ]
  },
  {
   "cell_type": "code",
   "execution_count": null,
   "id": "058686b4",
   "metadata": {},
   "outputs": [],
   "source": [
    "fig, ax = plot_distance(traj, inCLs, 1, 2423)\n",
    "title = 'Distance between two atoms'\n",
    "xlabel = 'Simulation time (ns)'\n",
    "ylabel = 'Distance ($\\AA$)'\n",
    "loc = ax.get_xticks()\n",
    "ax.set_xticks(loc[1:-1], (100*loc[1:-1]/len(traj)).astype(int))\n",
    "decorate_ax(ax, title, 16, xlabel, ylabel, 14, 12, 2, 4, False)"
   ]
  },
  {
   "cell_type": "code",
   "execution_count": null,
   "id": "e0b0e666",
   "metadata": {},
   "outputs": [],
   "source": [
    "fig, ax = plt.subplots(figsize=(10, 5))\n",
    "for index in range(len(inCLs)):\n",
    "    zs = []\n",
    "    for step in range(0, len(traj)):\n",
    "        frame = traj[step]\n",
    "        zs.append(frame[inCLs[index]][2])\n",
    "    ax.plot(np.linspace(0, 100, len(traj)), zs, label=str(inCLs[index]), lw=1)\n",
    "ax.legend(edgecolor='0.75')\n",
    "\n",
    "title = 'Z coordinate of chlorides inside the channel'\n",
    "xlabel = 'Simulation time (ns)'\n",
    "ylabel = 'Z coordinate ($\\AA$)'\n",
    "decorate_ax(ax, title, 16, xlabel, ylabel, 14, 12, 2, 4, True)"
   ]
  },
  {
   "cell_type": "code",
   "execution_count": null,
   "id": "0bbb6bf9",
   "metadata": {},
   "outputs": [],
   "source": [
    "distances, bonds = closest_atoms(traj, inWATs, iWATs_canal, NZs)"
   ]
  },
  {
   "cell_type": "code",
   "execution_count": null,
   "id": "20f4fe66",
   "metadata": {},
   "outputs": [],
   "source": [
    "for index in range(len(inWATs)):\n",
    "    if len(bonds[index][bonds[index]>0]) > 1000:\n",
    "        print(index)"
   ]
  },
  {
   "cell_type": "code",
   "execution_count": null,
   "id": "ab752c40",
   "metadata": {},
   "outputs": [],
   "source": [
    "fig, ax = plot_closest_atoms(distances, bonds, 104)\n",
    "title = 'Distance to the closest atom'\n",
    "xlabel = 'Simulation time (ns)'\n",
    "ylabel = 'Distance ($\\AA$)'\n",
    "loc = ax.get_xticks()\n",
    "ax.set_xticks(loc[1:-1], (100*loc[1:-1]/len(traj)).astype(int))\n",
    "decorate_ax(ax, title, 16, xlabel, ylabel, 14, 12, 2, 4, False)"
   ]
  },
  {
   "cell_type": "code",
   "execution_count": null,
   "id": "48090f77",
   "metadata": {},
   "outputs": [],
   "source": [
    "fig, ax = plot_distance(traj, inWATs, 104, 2589)\n",
    "title = 'Distance between two atoms'\n",
    "xlabel = 'Simulation time (ns)'\n",
    "ylabel = 'Distance ($\\AA$)'\n",
    "loc = ax.get_xticks()\n",
    "ax.set_xticks(loc[1:-1], (100*loc[1:-1]/len(traj)).astype(int))\n",
    "decorate_ax(ax, title, 16, xlabel, ylabel, 14, 12, 2, 4, False)"
   ]
  },
  {
   "cell_type": "code",
   "execution_count": null,
   "id": "b0615da1",
   "metadata": {},
   "outputs": [],
   "source": []
  }
 ],
 "metadata": {
  "kernelspec": {
   "display_name": "Python 3",
   "language": "python",
   "name": "python3"
  },
  "language_info": {
   "codemirror_mode": {
    "name": "ipython",
    "version": 3
   },
   "file_extension": ".py",
   "mimetype": "text/x-python",
   "name": "python",
   "nbconvert_exporter": "python",
   "pygments_lexer": "ipython3",
   "version": "3.8.10"
  }
 },
 "nbformat": 4,
 "nbformat_minor": 5
}
