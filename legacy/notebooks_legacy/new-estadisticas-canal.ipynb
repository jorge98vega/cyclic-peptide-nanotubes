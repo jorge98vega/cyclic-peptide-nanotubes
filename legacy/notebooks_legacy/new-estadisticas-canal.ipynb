{
 "cells": [
  {
   "cell_type": "markdown",
   "id": "e912498c",
   "metadata": {},
   "source": [
    "# Caso\n",
    "\n",
    "# Estadísticas (statistics)\n",
    "\n",
    "## Index\n",
    "0. [Imports](#Imports)\n",
    "1. [System parameters](#System-parameters)\n",
    "2. [Statistics](#Statistics)\n",
    "3. [Hydrogen bond stability](#Hydrogen-bond-stability)\n",
    "4. [Paths](#Paths)\n",
    "5. [Coordination numbers](#Coordination-numbers)\n",
    "6. [Hydrogen bond coordination and structures](#Hydrogen-bond-coordination-and-structures)"
   ]
  },
  {
   "cell_type": "markdown",
   "id": "3193ccdb",
   "metadata": {},
   "source": [
    "## Imports"
   ]
  },
  {
   "cell_type": "code",
   "execution_count": null,
   "id": "012e7d64",
   "metadata": {},
   "outputs": [],
   "source": [
    "import sys\n",
    "sys.path.insert(1, '/home/jorge/analisis/main/')\n",
    "from main import *\n",
    "from estadisticas import *"
   ]
  },
  {
   "cell_type": "markdown",
   "id": "f6db1978",
   "metadata": {},
   "source": [
    "## System parameters"
   ]
  },
  {
   "cell_type": "code",
   "execution_count": null,
   "id": "c4a13009",
   "metadata": {},
   "outputs": [],
   "source": [
    "# Parámetros fijos del sistema\n",
    "'''\n",
    "Los tubos están colocados:\n",
    "1 2\n",
    "3 4\n",
    "'''\n",
    "\n",
    "traj_name = \"4tubes_run01\"\n",
    "N_tubes = 4 # Número de tubos en el sistema\n",
    "N_rings = 6 # Número de anillos en un tubo\n",
    "N_res = 8 # Número de residuos en un anillo\n",
    "# Los índices de los residuos (LYS y LYN) que están en el canal entre los 4 nanotubos son (el primer índice es 1):\n",
    "# 3 15 19 31 35 47 53 61 69 77 85 93 101 109 117 125 133 141 147 159 163 175 179 191\n",
    "channel_res_1 = \"3, 15, 19, 31, 35, 47\"\n",
    "channel_res_2 = \"53, 61, 69, 77, 85, 93\"\n",
    "channel_res_3 = \"101, 109, 117, 125, 133, 141\"\n",
    "channel_res_4 = \"147, 159, 163, 175, 179, 191\""
   ]
  },
  {
   "cell_type": "code",
   "execution_count": null,
   "id": "0db6994a",
   "metadata": {},
   "outputs": [],
   "source": [
    "traj = pt.iterload(traj_name+\"_RMSD.nc\", traj_name+\".top\")\n",
    "p = Params(traj, N_tubes, N_rings, N_res, channel_res_1, channel_res_2, channel_res_3, channel_res_4)"
   ]
  },
  {
   "cell_type": "markdown",
   "id": "078d2f34",
   "metadata": {},
   "source": [
    "## Statistics"
   ]
  },
  {
   "cell_type": "code",
   "execution_count": null,
   "id": "502b240a",
   "metadata": {},
   "outputs": [],
   "source": [
    "canaldata = pd.read_csv(\"canal_stats.csv\")\n",
    "canaldata['tube'] = \"channel\"\n",
    "\n",
    "alldata = canaldata\n",
    "for tubo in (range(1, 2)):\n",
    "    tubedata = pd.read_csv(\"tube\"+str(tubo)+\"_stats.csv\")\n",
    "    tubedata['tube'] = tubo\n",
    "    alldata = alldata.append(tubedata, ignore_index=True)\n",
    "alldata.tail()\n",
    "\n",
    "detail = pd.read_csv(\"canal_hbonds_detail.csv\")"
   ]
  },
  {
   "cell_type": "code",
   "execution_count": null,
   "id": "aee54b8d",
   "metadata": {},
   "outputs": [],
   "source": [
    "N_wats = alldata[\"N_wats\"]\n",
    "bins = np.arange(min(N_wats)-0.5, max(N_wats)+1, 1)\n",
    "\n",
    "fig, ax = plt.subplots()\n",
    "sns.histplot(data=alldata, x=\"N_wats\", hue=\"tube\", bins=bins, element=\"step\", lw=2, alpha=0.01)\n",
    "title = 'Waters inside the tubes and the channel'\n",
    "xlabel = 'Number of waters inside'\n",
    "ylabel = 'Count (number of frames)'\n",
    "decorate_ax(ax, title, 16, xlabel, ylabel, 14, 12, 2, 4, False)"
   ]
  },
  {
   "cell_type": "code",
   "execution_count": null,
   "id": "e74e7f37",
   "metadata": {},
   "outputs": [],
   "source": [
    "fig, ax = plt.subplots()\n",
    "sns.lineplot(data=alldata, x=\"istep\", y=\"N_wats\", hue=\"tube\")\n",
    "title = 'Evolution of the number of waters inside the tubes and channel'\n",
    "xlabel = 'Step'\n",
    "ylabel = 'Number of waters'\n",
    "decorate_ax(ax, title, 16, xlabel, ylabel, 14, 12, 2, 4, False)"
   ]
  },
  {
   "cell_type": "code",
   "execution_count": null,
   "id": "1fe2ee25",
   "metadata": {},
   "outputs": [],
   "source": [
    "N_wats = canaldata['N_wats']\n",
    "bins = np.arange(min(N_wats)-0.5, max(N_wats)+1, 1)\n",
    "\n",
    "fig, ax = plt.subplots()\n",
    "sns.histplot(data=canaldata, x=\"N_wats\", bins=bins, lw=2)\n",
    "title = 'Waters inside the channel'\n",
    "xlabel = 'Number of waters inside'\n",
    "ylabel = 'Count (number of frames)'\n",
    "decorate_ax(ax, title, 16, xlabel, ylabel, 14, 12, 2, 4, False)"
   ]
  },
  {
   "cell_type": "code",
   "execution_count": null,
   "id": "d68ff6a5",
   "metadata": {},
   "outputs": [],
   "source": [
    "N_cls = canaldata['N_cls']\n",
    "bins = np.arange(min(N_cls)-0.5, max(N_cls)+1, 1)\n",
    "\n",
    "fig, ax = plt.subplots()\n",
    "sns.histplot(data=canaldata, x=\"N_cls\", bins=bins, lw=2)\n",
    "title = 'Chlorides inside the channel'\n",
    "xlabel = 'Number of chlorides inside'\n",
    "ylabel = 'Count (number of frames)'\n",
    "decorate_ax(ax, title, 16, xlabel, ylabel, 14, 12, 2, 4, False)"
   ]
  },
  {
   "cell_type": "code",
   "execution_count": null,
   "id": "4dbc1061",
   "metadata": {},
   "outputs": [],
   "source": [
    "fig, ax = plt.subplots()\n",
    "sns.lineplot(data=canaldata, x=\"istep\", y=\"N_wats\", label=\"Water\")\n",
    "sns.lineplot(data=canaldata, x=\"istep\", y=\"N_cls\", label=\"Chloride\")\n",
    "title = 'Evolution of the number of waters and chlorides inside the channel'\n",
    "xlabel = 'Step'\n",
    "ylabel = 'Number of waters/chlorides'\n",
    "decorate_ax(ax, title, 16, xlabel, ylabel, 14, 12, 2, 4, True)"
   ]
  },
  {
   "cell_type": "code",
   "execution_count": null,
   "id": "87cd271c",
   "metadata": {},
   "outputs": [],
   "source": [
    "N_hbonds = alldata[\"N_hbonds\"]\n",
    "bins = np.arange(min(N_hbonds)-0.5, max(N_hbonds)+1, 1)\n",
    "\n",
    "fig, ax = plt.subplots()\n",
    "sns.histplot(data=alldata, x=\"N_hbonds\", hue=\"tube\", bins=bins, element=\"step\", lw=2, alpha=0.01)\n",
    "title = 'Hydrogen bonds inside the tubes and the channel'\n",
    "xlabel = 'Number of hydrogen bonds inside'\n",
    "ylabel = 'Count (number of frames)'\n",
    "decorate_ax(ax, title, 16, xlabel, ylabel, 14, 12, 2, 4, False)"
   ]
  },
  {
   "cell_type": "code",
   "execution_count": null,
   "id": "770c3917",
   "metadata": {},
   "outputs": [],
   "source": [
    "fig, ax = plt.subplots()\n",
    "sns.histplot(data=alldata, x=\"ave_dist\", hue=\"tube\", element=\"step\", lw=2, alpha=0.01)\n",
    "title = 'Average distance of the hydrogen bonds'\n",
    "xlabel = 'Average distance'\n",
    "ylabel = 'Count (number of frames)'\n",
    "decorate_ax(ax, title, 16, xlabel, ylabel, 14, 12, 2, 4, False)"
   ]
  },
  {
   "cell_type": "code",
   "execution_count": null,
   "id": "006ca2e3",
   "metadata": {},
   "outputs": [],
   "source": [
    "aux = detail[detail[\"residues\"]!=\"N-WAT\"]\n",
    "aux = aux[aux[\"residues\"]!=\"WAT-O\"]\n",
    "N_hbonds = aux[\"N_hbonds\"]\n",
    "bins = np.arange(min(N_hbonds)-0.5, max(N_hbonds)+1, 1)\n",
    "\n",
    "fig, ax = plt.subplots()\n",
    "sns.histplot(data=aux, x=\"N_hbonds\", hue=\"residues\", bins=bins, element=\"step\", lw=2, alpha=0.01)\n",
    "title = 'Type of hydrogen bonds inside the channel'\n",
    "xlabel = 'Number of hydrogen bonds inside'\n",
    "ylabel = 'Count (number of frames)'\n",
    "decorate_ax(ax, title, 16, xlabel, ylabel, 14, 12, 2, 4, False)"
   ]
  },
  {
   "cell_type": "code",
   "execution_count": null,
   "id": "bc543eb4",
   "metadata": {},
   "outputs": [],
   "source": [
    "aux = detail[detail[\"residues\"]==\"LYS-WAT\"]\n",
    "N_hbonds = aux[\"N_hbonds\"]\n",
    "bins = np.arange(min(N_hbonds)-0.5, max(N_hbonds)+1, 1)\n",
    "\n",
    "fig, ax = plt.subplots()\n",
    "sns.histplot(data=aux, x=\"N_hbonds\", hue=\"residues\", bins=bins, element=\"step\", lw=2, alpha=0.01)\n",
    "title = 'Hydrogen bonds (TYPE) inside the channel'\n",
    "xlabel = 'Number of hydrogen bonds inside'\n",
    "ylabel = 'Count (number of frames)'\n",
    "decorate_ax(ax, title, 16, xlabel, ylabel, 14, 12, 2, 4, False)"
   ]
  },
  {
   "cell_type": "code",
   "execution_count": null,
   "id": "7581e34f",
   "metadata": {},
   "outputs": [],
   "source": [
    "fig, ax = plt.subplots()\n",
    "aux = detail[detail[\"residues\"]==\"WAT-O\"]\n",
    "sns.lineplot(data=aux, x=\"istep\", y=\"N_hbonds\", label=\"WAT-O\")\n",
    "aux = detail[detail[\"residues\"]==\"N-WAT\"]\n",
    "sns.lineplot(data=aux, x=\"istep\", y=\"N_hbonds\", label=\"N-WAT\")\n",
    "title = 'Hydrogen bonds with the backbone inside the channel'\n",
    "xlabel = 'Step'\n",
    "ylabel = 'Number of hydrogen bonds'\n",
    "decorate_ax(ax, title, 16, xlabel, ylabel, 14, 12, 2, 4, True)"
   ]
  },
  {
   "cell_type": "code",
   "execution_count": null,
   "id": "06f9d614",
   "metadata": {},
   "outputs": [],
   "source": [
    "aux = detail[detail[\"residues\"]==\"WAT-WAT\"]\n",
    "aux['tube'] = \"channel\"\n",
    "# sns.displot(data=aux, x=\"N_hbonds\", kind=\"kde\", bw_adjust=2, lw=2)\n",
    "aux = aux.append(alldata[alldata[\"tube\"]!=\"channel\"], ignore_index=True)\n",
    "N_hbonds = aux[\"N_hbonds\"]\n",
    "bins = np.arange(min(N_hbonds)-0.5, max(N_hbonds)+1, 1)\n",
    "\n",
    "fig, ax = plt.subplots()\n",
    "sns.histplot(data=aux, x=\"N_hbonds\", hue=\"tube\", bins=bins, element=\"step\", lw=2, alpha=0.01)\n",
    "title = 'Hydrogen bonds (only WAT-WAT) inside the tubes and the channel'\n",
    "xlabel = 'Number of hydrogen bonds inside'\n",
    "ylabel = 'Count (number of frames)'\n",
    "decorate_ax(ax, title, 16, xlabel, ylabel, 14, 12, 2, 4, False)"
   ]
  },
  {
   "cell_type": "code",
   "execution_count": null,
   "id": "d3cab903",
   "metadata": {},
   "outputs": [],
   "source": [
    "aux = detail[detail[\"residues\"]!=\"N-WAT\"]\n",
    "aux = aux[aux[\"residues\"]!=\"WAT-O\"]\n",
    "aux = aux[aux[\"residues\"]!=\"WAT-CL\"]\n",
    "aux = aux[aux[\"residues\"]!=\"LYN-CL\"]\n",
    "aux = aux[aux[\"residues\"]!=\"LYS-CL\"]\n",
    "\n",
    "new = pd.DataFrame(columns=['istep', 'N_hbonds'])\n",
    "for step in range(min(aux['istep']), max(aux['istep'])):\n",
    "    N_hbonds = 0\n",
    "    for index, data in aux[aux['istep']==step].iterrows():\n",
    "        N_hbonds += data[\"N_hbonds\"]\n",
    "    new.loc[new.shape[0]] = [step, N_hbonds]\n",
    "new\n",
    "new['tube'] = \"channel\"\n",
    "new = new.append(alldata[alldata[\"tube\"]!=\"channel\"], ignore_index=True)\n",
    "\n",
    "N_hbonds = new[\"N_hbonds\"]\n",
    "bins = np.arange(min(N_hbonds)-0.5, max(N_hbonds)+1, 1)\n",
    "\n",
    "fig, ax = plt.subplots()\n",
    "sns.histplot(data=new, x=\"N_hbonds\", hue=\"tube\", bins=bins, element=\"step\", lw=2, alpha=0.01)\n",
    "title = 'Hydrogen bonds (no Cl) inside the tubes and the channel'\n",
    "xlabel = 'Number of hydrogen bonds inside'\n",
    "ylabel = 'Count (number of frames)'\n",
    "decorate_ax(ax, title, 16, xlabel, ylabel, 14, 12, 2, 4, False)"
   ]
  },
  {
   "cell_type": "code",
   "execution_count": null,
   "id": "4e2b9989",
   "metadata": {},
   "outputs": [],
   "source": [
    "aux = detail[detail[\"residues\"]!=\"N-WAT\"]\n",
    "aux = aux[aux[\"residues\"]!=\"WAT-O\"]\n",
    "\n",
    "fig, ax = plt.subplots()\n",
    "sns.histplot(data=aux, x=\"ave_dist\", hue=\"residues\", element=\"step\", lw=2, alpha=0.01)\n",
    "title = 'Average distance of the hydrogen bonds by type'\n",
    "xlabel = 'Average distance'\n",
    "ylabel = 'Count (number of frames)'\n",
    "decorate_ax(ax, title, 16, xlabel, ylabel, 14, 12, 2, 4, False)"
   ]
  },
  {
   "cell_type": "markdown",
   "id": "5f02826e",
   "metadata": {},
   "source": [
    "## Hydrogen bond stability"
   ]
  },
  {
   "cell_type": "code",
   "execution_count": null,
   "id": "529238b2",
   "metadata": {},
   "outputs": [],
   "source": [
    "stab = pd.read_csv(\"canal_hbonds_stability.csv\")\n",
    "stab['consecutives'] = stab['consecutives'].apply(lambda x: np.array([int(i) for i in x[1:-1].split(',')]))\n",
    "clean = stab[stab[\"residues\"]!=\"N-WAT\"]\n",
    "clean = clean[clean[\"residues\"]!=\"WAT-O\"]\n",
    "print(\"Average number of consecutive frames:\")\n",
    "\n",
    "#fig, axs = plt.subplots(len(clean[\"residues\"].unique()))\n",
    "for index, res in enumerate(clean[\"residues\"].unique()):\n",
    "    aux = clean[clean[\"residues\"] == res]\n",
    "    \n",
    "    consecutives = np.array([])\n",
    "    for i, row in aux.iterrows():\n",
    "        consecutives = np.concatenate((consecutives, row[\"consecutives\"]))\n",
    "    \n",
    "    print(res, consecutives.mean())\n",
    "    bins = np.arange(min(consecutives)-0.5, max(consecutives)+1, 1)\n",
    "    \n",
    "    fig, ax = plt.subplots()\n",
    "    sns.histplot(data=consecutives, bins=bins, lw=2, ax=ax)\n",
    "    xlabel = 'Number of consecutive frames'\n",
    "    ylabel = 'Count of hydrogen bonds'\n",
    "    decorate_ax(ax, res, 16, xlabel, ylabel, 14, 12, 2, 4, False)\n",
    "#     plt.savefig('stab_'+res+'.png')"
   ]
  },
  {
   "cell_type": "code",
   "execution_count": null,
   "id": "bcc42ef4",
   "metadata": {},
   "outputs": [],
   "source": [
    "stab = pd.read_csv(\"tube1_hbonds_stability.csv\")\n",
    "stab['consecutives'] = stab['consecutives'].apply(lambda x: np.array([int(i) for i in x[1:-1].split(',')]))\n",
    "clean = stab[stab[\"residues\"]!=\"N-WAT\"]\n",
    "clean = clean[clean[\"residues\"]!=\"WAT-O\"]\n",
    "print(\"Average number of consecutive frames:\")\n",
    "\n",
    "for res in clean[\"residues\"].unique():\n",
    "    aux = clean[clean[\"residues\"] == res]\n",
    "    \n",
    "    consecutives = np.array([])\n",
    "    for i, row in aux.iterrows():\n",
    "        consecutives = np.concatenate((consecutives, row[\"consecutives\"]))\n",
    "    \n",
    "    print(res, consecutives.mean())\n",
    "    bins = np.arange(min(consecutives)-0.5, max(consecutives)+1, 1)\n",
    "    \n",
    "    fig, ax = plt.subplots()\n",
    "    sns.histplot(data=consecutives, bins=bins, lw=2)\n",
    "    xlabel = 'Number of consecutive frames'\n",
    "    ylabel = 'Count of hydrogen bonds'\n",
    "    decorate_ax(ax, res, 16, xlabel, ylabel, 14, 12, 2, 4, False)\n",
    "#     plt.savefig('stab_tube1.png')"
   ]
  },
  {
   "cell_type": "code",
   "execution_count": null,
   "id": "61140fe0",
   "metadata": {},
   "outputs": [],
   "source": [
    "stab = pd.read_csv(\"canal_hbonds_stability.csv\")\n",
    "stab['steps'] = stab['steps'].apply(lambda x: np.array([int(i) for i in x[1:-1].split(',')]))\n",
    "clean = stab[stab[\"residues\"]!=\"N-WAT\"]\n",
    "clean = clean[clean[\"residues\"]!=\"WAT-O\"]\n",
    "print(\"Average number of frames:\")\n",
    "\n",
    "#fig, axs = plt.subplots(len(clean[\"residues\"].unique()))\n",
    "for index, res in enumerate(clean[\"residues\"].unique()):\n",
    "    aux = clean[clean[\"residues\"] == res]\n",
    "    \n",
    "    frames = np.array([])\n",
    "    for i, row in aux.iterrows():\n",
    "        frames = np.append(frames, len(row[\"steps\"]))\n",
    "    \n",
    "    print(res, frames.mean())\n",
    "    bins = np.arange(min(frames)-0.5, max(frames)+1, 1)\n",
    "    \n",
    "    fig, ax = plt.subplots()\n",
    "    sns.histplot(data=frames, bins=bins, lw=2, ax=ax)\n",
    "    xlabel = 'Number of frames'\n",
    "    ylabel = 'Count of hydrogen bonds'\n",
    "    decorate_ax(ax, res, 16, xlabel, ylabel, 14, 12, 2, 4, False)\n",
    "#     plt.savefig('stab_'+res+'.png')"
   ]
  },
  {
   "cell_type": "code",
   "execution_count": null,
   "id": "7f6172d5",
   "metadata": {},
   "outputs": [],
   "source": [
    "stab = pd.read_csv(\"tube1_hbonds_stability.csv\")\n",
    "stab['steps'] = stab['steps'].apply(lambda x: np.array([int(i) for i in x[1:-1].split(',')]))\n",
    "clean = stab[stab[\"residues\"]!=\"N-WAT\"]\n",
    "clean = clean[clean[\"residues\"]!=\"WAT-O\"]\n",
    "print(\"Average number of frames:\")\n",
    "\n",
    "#fig, axs = plt.subplots(len(clean[\"residues\"].unique()))\n",
    "for index, res in enumerate(clean[\"residues\"].unique()):\n",
    "    aux = clean[clean[\"residues\"] == res]\n",
    "    \n",
    "    frames = np.array([])\n",
    "    for i, row in aux.iterrows():\n",
    "        frames = np.append(frames, len(row[\"steps\"]))\n",
    "    \n",
    "    print(res, frames.mean())\n",
    "    bins = np.arange(min(frames)-0.5, max(frames)+1, 1)\n",
    "    \n",
    "    fig, ax = plt.subplots()\n",
    "    sns.histplot(data=frames, bins=bins, lw=2, ax=ax)\n",
    "    xlabel = 'Number of frames'\n",
    "    ylabel = 'Count of hydrogen bonds'\n",
    "    decorate_ax(ax, res, 16, xlabel, ylabel, 14, 12, 2, 4, False)\n",
    "#     plt.savefig('stab_'+res+'.png')"
   ]
  },
  {
   "cell_type": "markdown",
   "id": "4198ed3b",
   "metadata": {},
   "source": [
    "## Paths"
   ]
  },
  {
   "cell_type": "code",
   "execution_count": null,
   "id": "8188c503",
   "metadata": {},
   "outputs": [],
   "source": [
    "paths = pd.read_csv(\"canal_paths.csv\")\n",
    "paths['path'] = paths['path'].apply(lambda x: np.array([int(i) for i in x[1:-1].split(',')]))\n",
    "paths['residues'] = paths['residues'].apply(lambda x: [i.replace(\"'\", \"\").strip(\" \") for i in x[1:-1].split(',')])\n",
    "paths"
   ]
  },
  {
   "cell_type": "code",
   "execution_count": null,
   "id": "99aacec3",
   "metadata": {},
   "outputs": [],
   "source": [
    "aux = paths\n",
    "aux['len'] = paths['path'].apply(lambda x: len(x))\n",
    "lens = aux['len']\n",
    "bins = np.arange(min(lens)-0.5, max(lens)+1, 1)\n",
    "\n",
    "fig, ax = plt.subplots()\n",
    "sns.histplot(data=aux, x=\"len\", bins=bins, lw=2)\n",
    "title = 'Number of atoms in the path'\n",
    "xlabel = 'Number of atoms'\n",
    "ylabel = 'Count (number of frames)'\n",
    "decorate_ax(ax, title, 16, xlabel, ylabel, 14, 12, 2, 4, False)"
   ]
  },
  {
   "cell_type": "code",
   "execution_count": null,
   "id": "ff31ffa4",
   "metadata": {},
   "outputs": [],
   "source": [
    "fig, ax = plt.subplots()\n",
    "sns.histplot(data=paths, x=\"path_length\", element=\"step\", lw=2, alpha=0.01)\n",
    "title = 'Length of the path'\n",
    "xlabel = 'Length ($\\AA$)'\n",
    "ylabel = 'Count (number of frames)'\n",
    "decorate_ax(ax, title, 16, xlabel, ylabel, 14, 12, 2, 4, False)"
   ]
  },
  {
   "cell_type": "code",
   "execution_count": null,
   "id": "1d25a205",
   "metadata": {},
   "outputs": [],
   "source": [
    "fig, ax = plt.subplots()\n",
    "sns.histplot(data=paths, x=\"dz\", element=\"step\", lw=2, alpha=0.01)\n",
    "title = 'Signed (direction) distance (in the Z axis) from start to finish'\n",
    "xlabel = 'Distance ($\\AA$)'\n",
    "ylabel = 'Count (number of frames)'\n",
    "decorate_ax(ax, title, 16, xlabel, ylabel, 14, 12, 2, 4, False)"
   ]
  },
  {
   "cell_type": "code",
   "execution_count": null,
   "id": "30e38dab",
   "metadata": {},
   "outputs": [],
   "source": [
    "aux = paths\n",
    "aux['dz'] = abs(paths['dz'])\n",
    "\n",
    "fig, ax = plt.subplots()\n",
    "sns.histplot(data=aux, x=\"dz\", element=\"step\", lw=2, alpha=0.01)\n",
    "title = 'Distance (in the Z axis) from start to finish'\n",
    "xlabel = 'Distance ($\\AA$)'\n",
    "ylabel = 'Count (number of frames)'\n",
    "decorate_ax(ax, title, 16, xlabel, ylabel, 14, 12, 2, 4, False)"
   ]
  },
  {
   "cell_type": "code",
   "execution_count": null,
   "id": "04619837",
   "metadata": {},
   "outputs": [],
   "source": [
    "aux.sort_values('dz')"
   ]
  },
  {
   "cell_type": "code",
   "execution_count": null,
   "id": "f6bcfea7",
   "metadata": {},
   "outputs": [],
   "source": [
    "for i in aux[aux['istep'] == 0]['residues']:\n",
    "    print(i)\n",
    "for i in aux[aux['istep'] == 0]['path']:\n",
    "    print(i+1)"
   ]
  },
  {
   "cell_type": "code",
   "execution_count": null,
   "id": "dd1af611",
   "metadata": {},
   "outputs": [],
   "source": [
    "residues = []\n",
    "for i, row in paths.iterrows():\n",
    "    residues += row['residues']\n",
    "\n",
    "fig, ax = plt.subplots()\n",
    "pd.Series(residues).value_counts(sort=True).plot(kind='bar', edgecolor='k', linewidth=2)\n",
    "decorate_ax(ax, \"Number of bonds in path\", 16, \"Type of bond\", \"Count\", 14, 12, 2, 4, False)"
   ]
  },
  {
   "cell_type": "code",
   "execution_count": null,
   "id": "57450f22",
   "metadata": {},
   "outputs": [],
   "source": [
    "residues = []\n",
    "for i, row in paths.iterrows():\n",
    "    atoms = row['path']\n",
    "    for atom in atoms:\n",
    "        residues += [traj.top.atom(atom).resname]\n",
    "\n",
    "fig, ax = plt.subplots()\n",
    "pd.Series(residues).value_counts(sort=True).plot(kind='bar', edgecolor='k', linewidth=2)\n",
    "decorate_ax(ax, \"Number of atoms in path\", 16, \"Type of atom\", \"Count\", 14, 12, 2, 4, False)"
   ]
  },
  {
   "cell_type": "code",
   "execution_count": null,
   "id": "f95a07ab",
   "metadata": {},
   "outputs": [],
   "source": [
    "aux = paths\n",
    "aux['dz'] = abs(paths['dz'])\n",
    "aux['len'] = paths['path'].apply(lambda x: len(x))\n",
    "\n",
    "fig, ax = plt.subplots()\n",
    "sns.heatmap(aux.corr(), annot=True, cmap='coolwarm')\n",
    "title = 'Correlation'\n",
    "xlabel = ''\n",
    "ylabel = ''\n",
    "decorate_ax(ax, title, 16, xlabel, ylabel, 14, 10, 2, 0, False)"
   ]
  },
  {
   "cell_type": "markdown",
   "id": "ef2d5992",
   "metadata": {},
   "source": [
    "## Coordination numbers"
   ]
  },
  {
   "cell_type": "code",
   "execution_count": null,
   "id": "182e0615",
   "metadata": {},
   "outputs": [],
   "source": [
    "cn = pd.read_csv(\"canal_coordination.csv\")\n",
    "cn"
   ]
  },
  {
   "cell_type": "code",
   "execution_count": null,
   "id": "1f75f796",
   "metadata": {},
   "outputs": [],
   "source": [
    "fig, ax = plot_coordination_atom(\"canal\", 3984)\n",
    "title = 'Coordination numbers of an atom'\n",
    "xlabel = 'Coordination number'\n",
    "ylabel = 'Count (number of frames)'\n",
    "decorate_ax(ax, title, 16, xlabel, ylabel, 14, 12, 2, 4, True)"
   ]
  },
  {
   "cell_type": "code",
   "execution_count": null,
   "id": "11438150",
   "metadata": {},
   "outputs": [],
   "source": [
    "fig, axs = plot_coordinations(\"canal\")\n",
    "xlabel = 'Coordination number'\n",
    "ylabel = 'Count (number of frames)'\n",
    "fig.supxlabel(xlabel, fontsize=14)\n",
    "fig.supylabel(ylabel, fontsize=14)\n",
    "for ax in axs.flatten():\n",
    "    decorate_ax(ax, ax.get_title(), 14, '', '', 14, 12, 2, 4, True)"
   ]
  },
  {
   "cell_type": "code",
   "execution_count": null,
   "id": "d5dd2a9e",
   "metadata": {},
   "outputs": [],
   "source": [
    "fig, axs = plot_coordination_averages(\"canal\")\n",
    "xlabel = 'Atom type'\n",
    "ylabel = 'Coordination number'\n",
    "fig.supxlabel(xlabel, fontsize=14)\n",
    "fig.supylabel(ylabel, fontsize=14)\n",
    "for ax in axs.flatten():\n",
    "    decorate_ax(ax, ax.get_title(), 14, '', '', 14, 12, 2, 4, False)"
   ]
  },
  {
   "cell_type": "markdown",
   "id": "89c40151",
   "metadata": {},
   "source": [
    "## Hydrogen bond coordination and structures"
   ]
  },
  {
   "cell_type": "code",
   "execution_count": null,
   "id": "fb18d1fb",
   "metadata": {},
   "outputs": [],
   "source": [
    "cnb = pd.read_csv(\"canal_coordination_hbonds.csv\")\n",
    "cnb"
   ]
  },
  {
   "cell_type": "code",
   "execution_count": null,
   "id": "a1ddad97",
   "metadata": {},
   "outputs": [],
   "source": [
    "fig, ax = plot_coordinationbonds_atom(\"canal\", 2257)\n",
    "title = 'Hydrogen bonds of an atom'\n",
    "xlabel = 'Number of hydrogen bonds'\n",
    "ylabel = 'Count (number of frames)'\n",
    "decorate_ax(ax, title, 16, xlabel, ylabel, 14, 12, 2, 4, True)"
   ]
  },
  {
   "cell_type": "code",
   "execution_count": null,
   "id": "ddfd1864",
   "metadata": {},
   "outputs": [],
   "source": [
    "fig, axs = plot_coordinationsbonds(\"canal\")\n",
    "xlabel = 'Number of hydrogen bonds'\n",
    "ylabel = 'Count (number of frames)'\n",
    "fig.supxlabel(xlabel, fontsize=14)\n",
    "fig.supylabel(ylabel, fontsize=14)\n",
    "for ax in axs.flatten():\n",
    "    decorate_ax(ax, ax.get_title(), 14, '', '', 14, 12, 2, 4, True)"
   ]
  },
  {
   "cell_type": "code",
   "execution_count": null,
   "id": "92f63cb1",
   "metadata": {},
   "outputs": [],
   "source": [
    "fig, axs = plot_coordinationbonds_averages(\"canal\")\n",
    "xlabel = 'Bond type'\n",
    "ylabel = 'Number of hydrogen bonds'\n",
    "fig.supxlabel(xlabel, fontsize=14)\n",
    "fig.supylabel(ylabel, fontsize=14)\n",
    "for ax in axs.flatten():\n",
    "    decorate_ax(ax, ax.get_title(), 14, '', '', 14, 12, 2, 4, False)"
   ]
  },
  {
   "cell_type": "markdown",
   "id": "a37db261",
   "metadata": {},
   "source": [
    "### Cómo leer las configuraciones\n",
    "Las cifras de las configuraciones indican que la molécula está formando tantos puentes de hidrógeno...<br />\n",
    "`donando a CL | donando a LYN | donando a WAT | aceptando de LYS | aceptando de LYN | aceptando de WAT`\n",
    "\n",
    "Hay que tener en cuenta que si los números de la izquierda (por ejemplo \"donando a CL\") son 0, estos no aparecen explícitamente en la configuración. Así que para cualquier configuración con menos de 6 cifras hay que imaginar 0s a la izquierda hasta que tenga 6 cifras."
   ]
  },
  {
   "cell_type": "code",
   "execution_count": null,
   "id": "7e54f540",
   "metadata": {},
   "outputs": [],
   "source": [
    "print_configurations(\"canal\", \"WAT\")"
   ]
  },
  {
   "cell_type": "code",
   "execution_count": null,
   "id": "6770856c",
   "metadata": {},
   "outputs": [],
   "source": [
    "print_configurations(\"canal\", \"CL\")"
   ]
  },
  {
   "cell_type": "code",
   "execution_count": null,
   "id": "7915048e",
   "metadata": {},
   "outputs": [],
   "source": [
    "print_configurations(\"canal\", \"LYS\")"
   ]
  },
  {
   "cell_type": "code",
   "execution_count": null,
   "id": "72791c70",
   "metadata": {},
   "outputs": [],
   "source": [
    "print_configurations(\"canal\", \"LYN\")"
   ]
  },
  {
   "cell_type": "code",
   "execution_count": null,
   "id": "16260b49",
   "metadata": {},
   "outputs": [],
   "source": []
  }
 ],
 "metadata": {
  "kernelspec": {
   "display_name": "Python 3",
   "language": "python",
   "name": "python3"
  },
  "language_info": {
   "codemirror_mode": {
    "name": "ipython",
    "version": 3
   },
   "file_extension": ".py",
   "mimetype": "text/x-python",
   "name": "python",
   "nbconvert_exporter": "python",
   "pygments_lexer": "ipython3",
   "version": "3.8.10"
  }
 },
 "nbformat": 4,
 "nbformat_minor": 5
}
