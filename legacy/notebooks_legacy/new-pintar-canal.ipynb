{
 "cells": [
  {
   "cell_type": "markdown",
   "id": "2847ac06",
   "metadata": {},
   "source": [
    "# Caso\n",
    "\n",
    "# Pintar (draw)\n",
    "\n",
    "## Index\n",
    "0. [Imports](#Imports)\n",
    "1. [System parameters](#System-parameters)\n",
    "2. [Structures](#Structures)\n",
    "3. [Average positions](#Average-positions)\n",
    "4. [Probability clouds](#Probability-clouds)\n",
    "5. [Density profiles](#Density-profiles)"
   ]
  },
  {
   "cell_type": "markdown",
   "id": "2bd6bfb9",
   "metadata": {},
   "source": [
    "## Imports"
   ]
  },
  {
   "cell_type": "code",
   "execution_count": null,
   "id": "1faef103",
   "metadata": {},
   "outputs": [],
   "source": [
    "%matplotlib notebook\n",
    "\n",
    "import sys\n",
    "sys.path.insert(1, '/home/jorge/analisis/main/')\n",
    "from main import *\n",
    "from pintar import *"
   ]
  },
  {
   "cell_type": "markdown",
   "id": "7e6c36bf",
   "metadata": {},
   "source": [
    "## System parameters"
   ]
  },
  {
   "cell_type": "code",
   "execution_count": null,
   "id": "b89b56c0",
   "metadata": {},
   "outputs": [],
   "source": [
    "# Parámetros fijos del sistema\n",
    "'''\n",
    "Los tubos están colocados:\n",
    "1 2\n",
    "3 4\n",
    "'''\n",
    "\n",
    "traj_name = \"4tubes_run01\"\n",
    "N_tubes = 4 # Número de tubos en el sistema\n",
    "N_rings = 6 # Número de anillos en un tubo\n",
    "N_res = 8 # Número de residuos en un anillo\n",
    "# Los índices de los residuos (LYS y LYN) que están en el canal entre los 4 nanotubos son (el primer índice es 1):\n",
    "# 3 15 19 31 35 47 53 61 69 77 85 93 101 109 117 125 133 141 147 159 163 175 179 191\n",
    "channel_res_1 = \"3, 15, 19, 31, 35, 47\"\n",
    "channel_res_2 = \"53, 61, 69, 77, 85, 93\"\n",
    "channel_res_3 = \"101, 109, 117, 125, 133, 141\"\n",
    "channel_res_4 = \"147, 159, 163, 175, 179, 191\""
   ]
  },
  {
   "cell_type": "code",
   "execution_count": null,
   "id": "ff3fbee1",
   "metadata": {},
   "outputs": [],
   "source": [
    "traj = pt.iterload(traj_name+\"_RMSD.nc\", traj_name+\".top\")\n",
    "p = Params(traj, N_tubes, N_rings, N_res, channel_res_1, channel_res_2, channel_res_3, channel_res_4)"
   ]
  },
  {
   "cell_type": "markdown",
   "id": "fada380e",
   "metadata": {},
   "source": [
    "## Structures"
   ]
  },
  {
   "cell_type": "code",
   "execution_count": null,
   "id": "4071e0ac",
   "metadata": {},
   "outputs": [],
   "source": [
    "plot_CAs(traj, 1000)"
   ]
  },
  {
   "cell_type": "code",
   "execution_count": null,
   "id": "f832f44f",
   "metadata": {},
   "outputs": [],
   "source": [
    "plot_network_3D(p, traj, 3000, \"canal\", canal=True, layer=0)"
   ]
  },
  {
   "cell_type": "code",
   "execution_count": null,
   "id": "cd0a1320",
   "metadata": {},
   "outputs": [],
   "source": [
    "fig, ax = plot_network_2D(p, traj, 3000, \"canal\", canal=True, phimin=-2.1, layer=0)\n",
    "title = 'Channel network'\n",
    "xlabel = ax.get_xlabel()\n",
    "ylabel = ax.get_ylabel()\n",
    "decorate_ax(ax, title, 16, xlabel, ylabel, 14, 12, 1, 4, False)"
   ]
  },
  {
   "cell_type": "code",
   "execution_count": null,
   "id": "02c12e1a",
   "metadata": {},
   "outputs": [],
   "source": [
    "plot_network_3D(p, traj, 4897, \"tube1\", layer=0)"
   ]
  },
  {
   "cell_type": "code",
   "execution_count": null,
   "id": "5349a344",
   "metadata": {},
   "outputs": [],
   "source": [
    "'''\n",
    "(El ángulo está medido tomando el eje Z en el centro del canal, quizás sería mejor medir\n",
    "el ángulo tomando el eje Z en el centro del nanotubo en cuestión)\n",
    "'''\n",
    "fig, ax = plot_network_2D(p, traj, 4897, \"tube1\", phimin=-2.1, layer=0)\n",
    "title = 'Tube network'\n",
    "xlabel = ax.get_xlabel()\n",
    "ylabel = ax.get_ylabel()\n",
    "decorate_ax(ax, title, 16, xlabel, ylabel, 14, 12, 1, 4, False)"
   ]
  },
  {
   "cell_type": "markdown",
   "id": "17ca7672",
   "metadata": {},
   "source": [
    "## Average positions"
   ]
  },
  {
   "cell_type": "code",
   "execution_count": null,
   "id": "6417241e",
   "metadata": {},
   "outputs": [],
   "source": [
    "plot_average_3D(\"canal\", 4500)"
   ]
  },
  {
   "cell_type": "code",
   "execution_count": null,
   "id": "241511ef",
   "metadata": {},
   "outputs": [],
   "source": [
    "fig, ax = plot_average_2D(\"canal\", 4500)\n",
    "title = 'Channel average'\n",
    "xlabel = ax.get_xlabel()\n",
    "ylabel = ax.get_ylabel()\n",
    "decorate_ax(ax, title, 16, xlabel, ylabel, 14, 12, 1, 4, False)"
   ]
  },
  {
   "cell_type": "markdown",
   "id": "e7dfa186",
   "metadata": {},
   "source": [
    "## Probability clouds"
   ]
  },
  {
   "cell_type": "code",
   "execution_count": null,
   "id": "50442a47",
   "metadata": {},
   "outputs": [],
   "source": [
    "iCLs_canal = np.load(\"iCLs_canal.npy\", allow_pickle=True)\n",
    "CLs_xyz = compute_xyz(p, traj, iCLs_canal, True, 3000, 5000)\n",
    "fig = probability_cloud(CLs_xyz, 3, 'k')\n",
    "fig.suptitle(\"CLs\")\n",
    "axs = fig.axes\n",
    "for ax in axs:\n",
    "    decorate_ax(ax, '', 16, ax.get_xlabel(), ax.get_ylabel(), 14, 12, 1, 4, False)"
   ]
  },
  {
   "cell_type": "code",
   "execution_count": null,
   "id": "bd68e8fa",
   "metadata": {},
   "outputs": [],
   "source": [
    "iWATs_canal = np.load(\"iWATs_canal.npy\", allow_pickle=True)\n",
    "WATs_xyz = compute_xyz(p, traj, iWATs_canal, True, 3000, len(iWATs_canal))\n",
    "fig = probability_cloud(WATs_xyz, 4, 'r')\n",
    "fig.suptitle(\"WATs\")\n",
    "axs = fig.axes\n",
    "for ax in axs:\n",
    "    decorate_ax(ax, '', 16, ax.get_xlabel(), ax.get_ylabel(), 14, 12, 1, 4, False)"
   ]
  },
  {
   "cell_type": "code",
   "execution_count": null,
   "id": "c71312a3",
   "metadata": {},
   "outputs": [],
   "source": [
    "NZs_LYS, NZs_LYN = select_atoms(p, 0)"
   ]
  },
  {
   "cell_type": "code",
   "execution_count": null,
   "id": "ec31ec04",
   "metadata": {},
   "outputs": [],
   "source": [
    "NZs_LYN_xyz = compute_xyz(p, traj, NZs_LYN, False, 0, 5000)\n",
    "fig = probability_cloud(NZs_LYN_xyz, 4, 'olive')\n",
    "fig.suptitle(\"LYN\")\n",
    "axs = fig.axes\n",
    "for ax in axs:\n",
    "    decorate_ax(ax, '', 16, ax.get_xlabel(), ax.get_ylabel(), 14, 12, 1, 4, False)"
   ]
  },
  {
   "cell_type": "code",
   "execution_count": null,
   "id": "17fce0f3",
   "metadata": {},
   "outputs": [],
   "source": [
    "NZs_LYS_xyz = compute_xyz(p, traj, NZs_LYS, False, 0, 5000)\n",
    "probability_cloud(NZs_LYS_xyz, 4, 'darkblue')\n",
    "fig.suptitle(\"LYS\")\n",
    "axs = fig.axes\n",
    "for ax in axs:\n",
    "    decorate_ax(ax, '', 16, ax.get_xlabel(), ax.get_ylabel(), 14, 12, 1, 4, False)"
   ]
  },
  {
   "cell_type": "markdown",
   "id": "3c66d2ab",
   "metadata": {},
   "source": [
    "## 3D point cloud"
   ]
  },
  {
   "cell_type": "code",
   "execution_count": null,
   "id": "20b70008",
   "metadata": {},
   "outputs": [],
   "source": [
    "fig = plt.figure()\n",
    "ax = fig.add_subplot(projection='3d')\n",
    "ax.set_box_aspect((15, 15, 30))\n",
    "\n",
    "label = \"canal\"\n",
    "iCLs_canal = np.load(\"iCLs_\"+label+\".npy\", allow_pickle=True)\n",
    "aux = np.array([], dtype=int)\n",
    "for CLs in iCLs_canal:\n",
    "    aux = np.append(aux, CLs)\n",
    "inCLs = np.unique(aux)\n",
    "list_atoms_pos = inCLs\n",
    "\n",
    "pintar_residuos=[]\n",
    "\n",
    "for i in range(len(list_atoms_pos)):\n",
    "    aux=[[],[],[]]\n",
    "    for step in range(len(traj)):\n",
    "        frame = traj[step]\n",
    "        for k in range(3):\n",
    "            aux[k].append(frame[list_atoms_pos[i]][k])\n",
    "    pintar_residuos.append(aux)\n",
    "\n",
    "for i in pintar_residuos:\n",
    "    ax.scatter(i[0],i[1],i[2], s=1, label=list_atoms_pos[pintar_residuos.index(i)])\n",
    "\n",
    "ax.legend()\n",
    "plt.show()"
   ]
  },
  {
   "cell_type": "code",
   "execution_count": null,
   "id": "d0db7297",
   "metadata": {},
   "outputs": [],
   "source": [
    "fig = plt.figure()\n",
    "ax = fig.add_subplot(projection='3d')\n",
    "ax.set_box_aspect((15, 15, 30))\n",
    "\n",
    "label = \"canal\"\n",
    "iWATs_canal = np.load(\"iWATs_\"+label+\".npy\", allow_pickle=True)\n",
    "aux = np.array([], dtype=int)\n",
    "for WATs in iWATs_canal:\n",
    "    aux = np.append(aux, WATs)\n",
    "inWATs = np.unique(aux)\n",
    "list_atoms_pos = inWATs\n",
    "\n",
    "pintar_residuos=[]\n",
    "\n",
    "for i in range(len(list_atoms_pos)):\n",
    "    aux=[[],[],[]]\n",
    "    for step in range(len(traj)):\n",
    "        frame = traj[step]\n",
    "        for k in range(3):\n",
    "            if list_atoms_pos[i] in iWATs_canal[step]:\n",
    "                aux[k].append(frame[list_atoms_pos[i]][k])\n",
    "    pintar_residuos.append(aux)\n",
    "\n",
    "for i in pintar_residuos:\n",
    "    ax.scatter(i[0],i[1],i[2], s=1)#, label=list_atoms_pos[pintar_residuos.index(i)])\n",
    "\n",
    "ax.legend()\n",
    "plt.show()"
   ]
  },
  {
   "cell_type": "code",
   "execution_count": null,
   "id": "4ed30b84",
   "metadata": {},
   "outputs": [],
   "source": [
    "fig = plt.figure()\n",
    "ax = fig.add_subplot(projection='3d')\n",
    "ax.set_box_aspect((15, 15, 30))\n",
    "\n",
    "label = \"canal\"\n",
    "iWATs_canal = np.load(\"iWATs_\"+label+\".npy\", allow_pickle=True)\n",
    "aux = np.array([], dtype=int)\n",
    "for WATs in iWATs_canal:\n",
    "    aux = np.append(aux, WATs)\n",
    "inWATs = np.unique(aux)\n",
    "list_atoms_pos = inWATs[3:7]\n",
    "\n",
    "pintar_residuos=[]\n",
    "\n",
    "for i in range(len(list_atoms_pos)):\n",
    "    aux=[[],[],[]]\n",
    "    for step in range(len(traj)):\n",
    "        frame = traj[step]\n",
    "        for k in range(3):\n",
    "            if list_atoms_pos[i] in iWATs_canal[step]:\n",
    "                aux[k].append(frame[list_atoms_pos[i]][k])\n",
    "    pintar_residuos.append(aux)\n",
    "\n",
    "for i in pintar_residuos:\n",
    "    ax.scatter(i[0],i[1],i[2], s=1, label=list_atoms_pos[pintar_residuos.index(i)])\n",
    "\n",
    "ax.legend()\n",
    "plt.show()"
   ]
  },
  {
   "cell_type": "markdown",
   "id": "6fd90886",
   "metadata": {},
   "source": [
    "## Density profiles"
   ]
  },
  {
   "cell_type": "code",
   "execution_count": null,
   "id": "84dd0b1e",
   "metadata": {},
   "outputs": [],
   "source": [
    "fig, axs = plot_density_profiles(p, traj, \"canal\", 3000, 5000, layer=0)\n",
    "fig.tight_layout()\n",
    "ylabel = 'Count'\n",
    "for ax in axs:\n",
    "    decorate_ax(ax, '', 16, ax.get_xlabel(), ylabel, 14, 12, 2, 4, True)"
   ]
  },
  {
   "cell_type": "code",
   "execution_count": null,
   "id": "959a60af",
   "metadata": {},
   "outputs": [],
   "source": []
  }
 ],
 "metadata": {
  "kernelspec": {
   "display_name": "Python 3",
   "language": "python",
   "name": "python3"
  },
  "language_info": {
   "codemirror_mode": {
    "name": "ipython",
    "version": 3
   },
   "file_extension": ".py",
   "mimetype": "text/x-python",
   "name": "python",
   "nbconvert_exporter": "python",
   "pygments_lexer": "ipython3",
   "version": "3.8.10"
  }
 },
 "nbformat": 4,
 "nbformat_minor": 5
}
